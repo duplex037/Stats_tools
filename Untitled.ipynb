{
 "cells": [
  {
   "cell_type": "code",
   "execution_count": 10,
   "metadata": {},
   "outputs": [],
   "source": [
    "import scipy.stats as st\n",
    "import numpy as np\n",
    "import pandas as pd\n",
    "import math"
   ]
  },
  {
   "cell_type": "code",
   "execution_count": 4,
   "metadata": {},
   "outputs": [
    {
     "data": {
      "text/html": [
       "<div>\n",
       "<style scoped>\n",
       "    .dataframe tbody tr th:only-of-type {\n",
       "        vertical-align: middle;\n",
       "    }\n",
       "\n",
       "    .dataframe tbody tr th {\n",
       "        vertical-align: top;\n",
       "    }\n",
       "\n",
       "    .dataframe thead th {\n",
       "        text-align: right;\n",
       "    }\n",
       "</style>\n",
       "<table border=\"1\" class=\"dataframe\">\n",
       "  <thead>\n",
       "    <tr style=\"text-align: right;\">\n",
       "      <th></th>\n",
       "      <th>predict_True</th>\n",
       "      <th>predict_False</th>\n",
       "    </tr>\n",
       "  </thead>\n",
       "  <tbody>\n",
       "    <tr>\n",
       "      <th>input_True</th>\n",
       "      <td>100</td>\n",
       "      <td>20</td>\n",
       "    </tr>\n",
       "    <tr>\n",
       "      <th>input_False</th>\n",
       "      <td>10</td>\n",
       "      <td>200</td>\n",
       "    </tr>\n",
       "  </tbody>\n",
       "</table>\n",
       "</div>"
      ],
      "text/plain": [
       "             predict_True  predict_False\n",
       "input_True            100             20\n",
       "input_False            10            200"
      ]
     },
     "metadata": {},
     "output_type": "display_data"
    }
   ],
   "source": [
    "matrix_df = pd.DataFrame( {'predict_True':[100,10],'predict_False':[20,200]}, index = ['input_True','input_False'])\n",
    "display(matrix_df)"
   ]
  },
  {
   "cell_type": "code",
   "execution_count": 8,
   "metadata": {},
   "outputs": [],
   "source": [
    "input_true = np.sum(matrix_df.iloc[0])\n",
    "input_false = np.sum(matrix_df.iloc[1])\n",
    "predict_true = np.sum(matrix_df.iloc[:,0])\n",
    "predict_false = np.sum(matrix_df.iloc[:,1])\n",
    "total = matrix_df.sum().sum()\n",
    "totals = [input_true, input_false, predict_true, predict_false,total]"
   ]
  },
  {
   "cell_type": "code",
   "execution_count": 9,
   "metadata": {},
   "outputs": [
    {
     "name": "stdout",
     "output_type": "stream",
     "text": [
      "120\n",
      "210\n",
      "110\n",
      "220\n",
      "330\n"
     ]
    }
   ],
   "source": [
    "for toal in totals:\n",
    "    print(toal)"
   ]
  },
  {
   "cell_type": "code",
   "execution_count": 11,
   "metadata": {},
   "outputs": [],
   "source": [
    "TP = matrix_df.iloc[0,0]\n",
    "TN = matrix_df.iloc[1,1]\n",
    "FP = matrix_df.iloc[0,1]\n",
    "FN = matrix_df.iloc[1,0]\n",
    "cells = [TP,TN,FP,FN]"
   ]
  },
  {
   "cell_type": "code",
   "execution_count": 12,
   "metadata": {},
   "outputs": [
    {
     "name": "stdout",
     "output_type": "stream",
     "text": [
      "100\n",
      "200\n",
      "20\n",
      "10\n"
     ]
    }
   ],
   "source": [
    "for cell in cells:\n",
    "    print(cell)"
   ]
  },
  {
   "cell_type": "code",
   "execution_count": 13,
   "metadata": {},
   "outputs": [],
   "source": [
    "SENS = TP/(TP+FN)\n",
    "SPEC = TN/(TN+FP)\n",
    "PPV = TP/(TP+FP)\n",
    "NPV = TN/(TN+FN)\n",
    "ACC = (TP + TN)/total"
   ]
  },
  {
   "cell_type": "code",
   "execution_count": 15,
   "metadata": {},
   "outputs": [],
   "source": [
    "perf_table = pd.DataFrame({'SENS':[SENS],\"SPEC\":[SPEC],'PPV':[PPV],'NPV':[NPV],'ACC':[ACC]})"
   ]
  },
  {
   "cell_type": "code",
   "execution_count": 16,
   "metadata": {},
   "outputs": [
    {
     "data": {
      "text/html": [
       "<div>\n",
       "<style scoped>\n",
       "    .dataframe tbody tr th:only-of-type {\n",
       "        vertical-align: middle;\n",
       "    }\n",
       "\n",
       "    .dataframe tbody tr th {\n",
       "        vertical-align: top;\n",
       "    }\n",
       "\n",
       "    .dataframe thead th {\n",
       "        text-align: right;\n",
       "    }\n",
       "</style>\n",
       "<table border=\"1\" class=\"dataframe\">\n",
       "  <thead>\n",
       "    <tr style=\"text-align: right;\">\n",
       "      <th></th>\n",
       "      <th>SENS</th>\n",
       "      <th>SPEC</th>\n",
       "      <th>PPV</th>\n",
       "      <th>NPV</th>\n",
       "      <th>ACC</th>\n",
       "    </tr>\n",
       "  </thead>\n",
       "  <tbody>\n",
       "    <tr>\n",
       "      <th>0</th>\n",
       "      <td>0.909091</td>\n",
       "      <td>0.909091</td>\n",
       "      <td>0.833333</td>\n",
       "      <td>0.952381</td>\n",
       "      <td>0.909091</td>\n",
       "    </tr>\n",
       "  </tbody>\n",
       "</table>\n",
       "</div>"
      ],
      "text/plain": [
       "       SENS      SPEC       PPV       NPV       ACC\n",
       "0  0.909091  0.909091  0.833333  0.952381  0.909091"
      ]
     },
     "metadata": {},
     "output_type": "display_data"
    }
   ],
   "source": [
    "display(perf_table)"
   ]
  },
  {
   "cell_type": "code",
   "execution_count": 65,
   "metadata": {},
   "outputs": [],
   "source": [
    "def cal_conf_matrix(matrix_df):\n",
    "    input_true = np.sum(matrix_df.iloc[0])\n",
    "    input_false = np.sum(matrix_df.iloc[1])\n",
    "    predict_true = np.sum(matrix_df.iloc[:,0])\n",
    "    predict_false = np.sum(matrix_df.iloc[:,1])\n",
    "    total = matrix_df.sum().sum()\n",
    "    totals = {'input_true':input_true, \n",
    "              'input_false':input_false,\n",
    "              'predict_true':predict_true, \n",
    "              'predict_false':predict_false,\n",
    "              'total':total}\n",
    "    TP = matrix_df.iloc[0,0]\n",
    "    TN = matrix_df.iloc[1,1]\n",
    "    FP = matrix_df.iloc[0,1]\n",
    "    FN = matrix_df.iloc[1,0]\n",
    "    cells = {'TP':TP,'TN':TN,'FP':FP,'FN':FN}\n",
    "    perf_table = pd.DataFrame([SENS,SPEC,PPV,NPV,ACC], \n",
    "                              index = ['SENS','SPEC','PPV','NPV','ACC'], columns = ['value'])\n",
    "    return perf_table,totals,cells"
   ]
  },
  {
   "cell_type": "code",
   "execution_count": 69,
   "metadata": {},
   "outputs": [
    {
     "data": {
      "text/html": [
       "<div>\n",
       "<style scoped>\n",
       "    .dataframe tbody tr th:only-of-type {\n",
       "        vertical-align: middle;\n",
       "    }\n",
       "\n",
       "    .dataframe tbody tr th {\n",
       "        vertical-align: top;\n",
       "    }\n",
       "\n",
       "    .dataframe thead th {\n",
       "        text-align: right;\n",
       "    }\n",
       "</style>\n",
       "<table border=\"1\" class=\"dataframe\">\n",
       "  <thead>\n",
       "    <tr style=\"text-align: right;\">\n",
       "      <th></th>\n",
       "      <th>value</th>\n",
       "    </tr>\n",
       "  </thead>\n",
       "  <tbody>\n",
       "    <tr>\n",
       "      <th>SENS</th>\n",
       "      <td>0.909091</td>\n",
       "    </tr>\n",
       "    <tr>\n",
       "      <th>SPEC</th>\n",
       "      <td>0.909091</td>\n",
       "    </tr>\n",
       "    <tr>\n",
       "      <th>PPV</th>\n",
       "      <td>0.833333</td>\n",
       "    </tr>\n",
       "    <tr>\n",
       "      <th>NPV</th>\n",
       "      <td>0.952381</td>\n",
       "    </tr>\n",
       "    <tr>\n",
       "      <th>ACC</th>\n",
       "      <td>0.909091</td>\n",
       "    </tr>\n",
       "  </tbody>\n",
       "</table>\n",
       "</div>"
      ],
      "text/plain": [
       "         value\n",
       "SENS  0.909091\n",
       "SPEC  0.909091\n",
       "PPV   0.833333\n",
       "NPV   0.952381\n",
       "ACC   0.909091"
      ]
     },
     "metadata": {},
     "output_type": "display_data"
    },
    {
     "name": "stdout",
     "output_type": "stream",
     "text": [
      "{'input_true': 120, 'input_false': 210, 'predict_true': 110, 'predict_false': 220, 'total': 330}\n",
      "{'TP': 100, 'TN': 200, 'FP': 20, 'FN': 10}\n"
     ]
    }
   ],
   "source": [
    "perf_table,totals,cells = cal_conf_matrix(matrix_df)\n",
    "display(perf_table)\n",
    "print(totals)\n",
    "print(cells)"
   ]
  },
  {
   "cell_type": "code",
   "execution_count": 18,
   "metadata": {},
   "outputs": [],
   "source": [
    "\n",
    "def calculate_CI(p_value, total, estimate_p,tail = 'two' ,method = 'simple_asymptotic'):\n",
    "    if tail == 'two': \n",
    "        z = st.norm.ppf(1 - p_value/2)\n",
    "    elif tail == 'one':\n",
    "        z = st.norm.ppf(1 - p_value)       \n",
    "    se = math.sqrt(estimate_p * (1 - estimate_p) / total)\n",
    "    if method == 'simple_asymptotic':\n",
    "        CI = [estimate_p - z*se, estimate_p + z*se]\n",
    "    elif method == 'continuity_correction':\n",
    "        divedend_1 = 2 * total * estimate_p + z**2 - 1\n",
    "        divedend_2_l = z * math.sqrt(z **2 -(2 + 1/total)+ 4 * estimate_p * (total *(1- estimate_p) + 1))\n",
    "        divedend_2_r = z * math.sqrt(z **2 +(2 - 1/total)+ 4 * estimate_p * (total * (1- estimate_p) - 1))\n",
    "        denominator = 2 * (total + z **2)\n",
    "        CI_left = (divedend_1 - divedend_2_l)/denominator\n",
    "        CI_right = (divedend_1 + divedend_2_r )/denominator\n",
    "        CI = [CI_left, CI_right]\n",
    "    return CI\n"
   ]
  },
  {
   "cell_type": "code",
   "execution_count": 20,
   "metadata": {},
   "outputs": [
    {
     "name": "stdout",
     "output_type": "stream",
     "text": [
      "[0.8553681717841405, 0.9628138282158595]\n",
      "[0.8352178594640335, 0.9443490466067299]\n"
     ]
    }
   ],
   "source": [
    "import math\n",
    "print(calculate_CI(0.05, 110,0.909091))\n",
    "print(calculate_CI(0.05, 110,0.909091, method = 'continuity_correction'))"
   ]
  },
  {
   "cell_type": "code",
   "execution_count": 3,
   "metadata": {},
   "outputs": [
    {
     "name": "stdout",
     "output_type": "stream",
     "text": [
      "2 4\n"
     ]
    }
   ],
   "source": [
    "a = 2\n",
    "b = a**2\n",
    "print(a,b)"
   ]
  },
  {
   "cell_type": "code",
   "execution_count": null,
   "metadata": {},
   "outputs": [],
   "source": []
  }
 ],
 "metadata": {
  "kernelspec": {
   "display_name": "Python 3",
   "language": "python",
   "name": "python3"
  },
  "language_info": {
   "codemirror_mode": {
    "name": "ipython",
    "version": 3
   },
   "file_extension": ".py",
   "mimetype": "text/x-python",
   "name": "python",
   "nbconvert_exporter": "python",
   "pygments_lexer": "ipython3",
   "version": "3.7.3"
  }
 },
 "nbformat": 4,
 "nbformat_minor": 2
}
